{
 "cells": [
  {
   "cell_type": "code",
   "execution_count": 2,
   "id": "915c15e6-b5b6-4a48-a7d0-2dc27db94b4e",
   "metadata": {},
   "outputs": [
    {
     "name": "stderr",
     "output_type": "stream",
     "text": [
      "No filenames found for reader: seviri_l1b_hrit\n",
      "Don't know how to open the following files: {<FSFile \"C:/Users/sripr/Downloads/MYD021KM.A2023001.1815.061.2023005193309.hdf\">}\n"
     ]
    },
    {
     "ename": "ValueError",
     "evalue": "No supported files found",
     "output_type": "error",
     "traceback": [
      "\u001b[1;31m---------------------------------------------------------------------------\u001b[0m",
      "\u001b[1;31mValueError\u001b[0m                                Traceback (most recent call last)",
      "Cell \u001b[1;32mIn[2], line 4\u001b[0m\n\u001b[0;32m      2\u001b[0m \u001b[38;5;28;01mfrom\u001b[39;00m \u001b[38;5;21;01mglob\u001b[39;00m \u001b[38;5;28;01mimport\u001b[39;00m glob\n\u001b[0;32m      3\u001b[0m filenames \u001b[38;5;241m=\u001b[39m glob(\u001b[38;5;124m\"\u001b[39m\u001b[38;5;124mC:/Users/sripr/Downloads/MYD021KM.A2023001.1815.061.2023005193309.hdf\u001b[39m\u001b[38;5;124m\"\u001b[39m)\n\u001b[1;32m----> 4\u001b[0m scn \u001b[38;5;241m=\u001b[39m Scene(filenames,reader\u001b[38;5;241m=\u001b[39m\u001b[38;5;124m\"\u001b[39m\u001b[38;5;124mseviri_l1b_hrit\u001b[39m\u001b[38;5;124m\"\u001b[39m)\n",
      "File \u001b[1;32m~\\anaconda3\\envs\\my_satpy_env\\Lib\\site-packages\\satpy\\scene.py:152\u001b[0m, in \u001b[0;36mScene.__init__\u001b[1;34m(self, filenames, reader, filter_parameters, reader_kwargs)\u001b[0m\n\u001b[0;32m    149\u001b[0m \u001b[38;5;28;01mif\u001b[39;00m filenames:\n\u001b[0;32m    150\u001b[0m     filenames \u001b[38;5;241m=\u001b[39m convert_remote_files_to_fsspec(filenames, storage_options)\n\u001b[1;32m--> 152\u001b[0m \u001b[38;5;28mself\u001b[39m\u001b[38;5;241m.\u001b[39m_readers \u001b[38;5;241m=\u001b[39m \u001b[38;5;28mself\u001b[39m\u001b[38;5;241m.\u001b[39m_create_reader_instances(filenames\u001b[38;5;241m=\u001b[39mfilenames,\n\u001b[0;32m    153\u001b[0m                                               reader\u001b[38;5;241m=\u001b[39mreader,\n\u001b[0;32m    154\u001b[0m                                               reader_kwargs\u001b[38;5;241m=\u001b[39mcleaned_reader_kwargs)\n\u001b[0;32m    155\u001b[0m \u001b[38;5;28mself\u001b[39m\u001b[38;5;241m.\u001b[39m_datasets \u001b[38;5;241m=\u001b[39m DatasetDict()\n\u001b[0;32m    156\u001b[0m \u001b[38;5;28mself\u001b[39m\u001b[38;5;241m.\u001b[39m_wishlist \u001b[38;5;241m=\u001b[39m \u001b[38;5;28mset\u001b[39m()\n",
      "File \u001b[1;32m~\\anaconda3\\envs\\my_satpy_env\\Lib\\site-packages\\satpy\\scene.py:173\u001b[0m, in \u001b[0;36mScene._create_reader_instances\u001b[1;34m(self, filenames, reader, reader_kwargs)\u001b[0m\n\u001b[0;32m    168\u001b[0m \u001b[38;5;28;01mdef\u001b[39;00m \u001b[38;5;21m_create_reader_instances\u001b[39m(\u001b[38;5;28mself\u001b[39m,\n\u001b[0;32m    169\u001b[0m                              filenames\u001b[38;5;241m=\u001b[39m\u001b[38;5;28;01mNone\u001b[39;00m,\n\u001b[0;32m    170\u001b[0m                              reader\u001b[38;5;241m=\u001b[39m\u001b[38;5;28;01mNone\u001b[39;00m,\n\u001b[0;32m    171\u001b[0m                              reader_kwargs\u001b[38;5;241m=\u001b[39m\u001b[38;5;28;01mNone\u001b[39;00m):\n\u001b[0;32m    172\u001b[0m \u001b[38;5;250m    \u001b[39m\u001b[38;5;124;03m\"\"\"Find readers and return their instances.\"\"\"\u001b[39;00m\n\u001b[1;32m--> 173\u001b[0m     \u001b[38;5;28;01mreturn\u001b[39;00m load_readers(filenames\u001b[38;5;241m=\u001b[39mfilenames,\n\u001b[0;32m    174\u001b[0m                         reader\u001b[38;5;241m=\u001b[39mreader,\n\u001b[0;32m    175\u001b[0m                         reader_kwargs\u001b[38;5;241m=\u001b[39mreader_kwargs)\n",
      "File \u001b[1;32m~\\anaconda3\\envs\\my_satpy_env\\Lib\\site-packages\\satpy\\readers\\__init__.py:584\u001b[0m, in \u001b[0;36mload_readers\u001b[1;34m(filenames, reader, reader_kwargs)\u001b[0m\n\u001b[0;32m    581\u001b[0m         \u001b[38;5;28;01mbreak\u001b[39;00m\n\u001b[0;32m    583\u001b[0m _check_remaining_files(remaining_filenames)\n\u001b[1;32m--> 584\u001b[0m _check_reader_instances(reader_instances)\n\u001b[0;32m    585\u001b[0m \u001b[38;5;28;01mreturn\u001b[39;00m reader_instances\n",
      "File \u001b[1;32m~\\anaconda3\\envs\\my_satpy_env\\Lib\\site-packages\\satpy\\readers\\__init__.py:623\u001b[0m, in \u001b[0;36m_check_reader_instances\u001b[1;34m(reader_instances)\u001b[0m\n\u001b[0;32m    621\u001b[0m \u001b[38;5;28;01mdef\u001b[39;00m \u001b[38;5;21m_check_reader_instances\u001b[39m(reader_instances):\n\u001b[0;32m    622\u001b[0m     \u001b[38;5;28;01mif\u001b[39;00m \u001b[38;5;129;01mnot\u001b[39;00m reader_instances:\n\u001b[1;32m--> 623\u001b[0m         \u001b[38;5;28;01mraise\u001b[39;00m \u001b[38;5;167;01mValueError\u001b[39;00m(\u001b[38;5;124m\"\u001b[39m\u001b[38;5;124mNo supported files found\u001b[39m\u001b[38;5;124m\"\u001b[39m)\n\u001b[0;32m    624\u001b[0m     \u001b[38;5;28;01mif\u001b[39;00m \u001b[38;5;129;01mnot\u001b[39;00m \u001b[38;5;28many\u001b[39m(\u001b[38;5;28mlist\u001b[39m(r\u001b[38;5;241m.\u001b[39mavailable_dataset_ids) \u001b[38;5;28;01mfor\u001b[39;00m r \u001b[38;5;129;01min\u001b[39;00m reader_instances\u001b[38;5;241m.\u001b[39mvalues()):\n\u001b[0;32m    625\u001b[0m         \u001b[38;5;28;01mraise\u001b[39;00m \u001b[38;5;167;01mValueError\u001b[39;00m(\u001b[38;5;124m\"\u001b[39m\u001b[38;5;124mNo dataset could be loaded. Either missing \u001b[39m\u001b[38;5;124m\"\u001b[39m\n\u001b[0;32m    626\u001b[0m                          \u001b[38;5;124m\"\u001b[39m\u001b[38;5;124mrequirements (such as Epilog, Prolog) or none of the \u001b[39m\u001b[38;5;124m\"\u001b[39m\n\u001b[0;32m    627\u001b[0m                          \u001b[38;5;124m\"\u001b[39m\u001b[38;5;124mprovided files match the filter parameters.\u001b[39m\u001b[38;5;124m\"\u001b[39m)\n",
      "\u001b[1;31mValueError\u001b[0m: No supported files found"
     ]
    }
   ],
   "source": [
    "from satpy import Scene\n",
    "from glob import glob\n",
    "filenames = glob(\"C:/Users/sripr/Downloads/MYD021KM.A2023001.1815.061.2023005193309.hdf\")\n",
    "scn = Scene(filenames,reader=\"seviri_l1b_hrit\")"
   ]
  }
 ],
 "metadata": {
  "kernelspec": {
   "display_name": "Python [conda env:my_satpy_env] *",
   "language": "python",
   "name": "conda-env-my_satpy_env-py"
  },
  "language_info": {
   "codemirror_mode": {
    "name": "ipython",
    "version": 3
   },
   "file_extension": ".py",
   "mimetype": "text/x-python",
   "name": "python",
   "nbconvert_exporter": "python",
   "pygments_lexer": "ipython3",
   "version": "3.11.5"
  }
 },
 "nbformat": 4,
 "nbformat_minor": 5
}
